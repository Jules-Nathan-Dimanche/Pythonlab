{
  "nbformat": 4,
  "nbformat_minor": 0,
  "metadata": {
    "colab": {
      "name": "08122021.ipynb",
      "provenance": [],
      "authorship_tag": "ABX9TyPm4NqdrCeKlvZEMrSaNVoT",
      "include_colab_link": true
    },
    "kernelspec": {
      "name": "python3",
      "display_name": "Python 3"
    },
    "language_info": {
      "name": "python"
    }
  },
  "cells": [
    {
      "cell_type": "markdown",
      "metadata": {
        "id": "view-in-github",
        "colab_type": "text"
      },
      "source": [
        "<a href=\"https://colab.research.google.com/github/Jules-Nathan-Dimanche/Pythonlab/blob/main/08122021.ipynb\" target=\"_parent\"><img src=\"https://colab.research.google.com/assets/colab-badge.svg\" alt=\"Open In Colab\"/></a>"
      ]
    },
    {
      "cell_type": "code",
      "execution_count": 5,
      "metadata": {
        "colab": {
          "base_uri": "https://localhost:8080/"
        },
        "id": "ZR39T2H15T5E",
        "outputId": "9b58626c-d014-4967-d2c0-b3f2a2e7f286"
      },
      "outputs": [
        {
          "output_type": "stream",
          "name": "stdout",
          "text": [
            "['melon', 'apple', 'banana']\n"
          ]
        }
      ],
      "source": [
        "thelist = [\"melon\",\"apple\",\"egg\"]\n",
        "thelist[2] = \"banana\"\n",
        "print(thelist)"
      ]
    },
    {
      "cell_type": "code",
      "source": [
        "thelist = [\"melon\",\"paper\",\"egg\"]\n",
        "thelist[1:3] = [\"apple\",\"banana\"]\n",
        "print(thelist)"
      ],
      "metadata": {
        "colab": {
          "base_uri": "https://localhost:8080/"
        },
        "id": "EJoLPA7c6RBs",
        "outputId": "b5223eee-555c-413c-b3b4-ee7ec6b1c43d"
      },
      "execution_count": 9,
      "outputs": [
        {
          "output_type": "stream",
          "name": "stdout",
          "text": [
            "['melon', 'apple', 'banana']\n"
          ]
        }
      ]
    },
    {
      "cell_type": "code",
      "source": [
        "thelist = [\"apple\",\"banana\",\"melon\"]\n",
        "thelist.append(\"pineapple\")\n",
        "print(thelist)"
      ],
      "metadata": {
        "colab": {
          "base_uri": "https://localhost:8080/"
        },
        "id": "BqUcMKrF8TE5",
        "outputId": "4f095922-58e5-471b-a8e8-4f37b424e93f"
      },
      "execution_count": 10,
      "outputs": [
        {
          "output_type": "stream",
          "name": "stdout",
          "text": [
            "['apple', 'banana', 'melon', 'pineapple']\n"
          ]
        }
      ]
    },
    {
      "cell_type": "code",
      "source": [
        "thelist = [\"apple\",\"banana\",\"orange\"]\n",
        "thelist.insert(2,\"pineapple\")\n",
        "print(thelist)"
      ],
      "metadata": {
        "colab": {
          "base_uri": "https://localhost:8080/"
        },
        "id": "rLM0vHBI9hFR",
        "outputId": "6b117b5c-8f45-4b3c-db6e-7516a19a940e"
      },
      "execution_count": 11,
      "outputs": [
        {
          "output_type": "stream",
          "name": "stdout",
          "text": [
            "['apple', 'banana', 'pineapple', 'orange']\n"
          ]
        }
      ]
    },
    {
      "cell_type": "code",
      "source": [
        "thelist = [\"apple\",\"banana\",\"pineapple\"]\n",
        "extrafruits = [\"orange\"]\n",
        "thelist.extend(extrafruits)\n",
        "print(thelist)"
      ],
      "metadata": {
        "colab": {
          "base_uri": "https://localhost:8080/"
        },
        "id": "TnyPiBaP9hLx",
        "outputId": "5ced839e-433c-4ff0-e92d-8ab33e170342"
      },
      "execution_count": 18,
      "outputs": [
        {
          "output_type": "stream",
          "name": "stdout",
          "text": [
            "['apple', 'banana', 'pineapple', 'orange']\n"
          ]
        }
      ]
    },
    {
      "cell_type": "code",
      "source": [
        "thelist = [\"apple\",\"melon\"]\n",
        "thelist.remove(\"apple\")\n",
        "print(thelist)\n"
      ],
      "metadata": {
        "colab": {
          "base_uri": "https://localhost:8080/"
        },
        "id": "BgXh2_1x_VPP",
        "outputId": "cce95eba-5312-4fe0-bd4a-0097daa7b518"
      },
      "execution_count": 26,
      "outputs": [
        {
          "output_type": "stream",
          "name": "stdout",
          "text": [
            "['melon']\n"
          ]
        }
      ]
    },
    {
      "cell_type": "code",
      "source": [
        "thelist = [\"milk\",\"water\",\"egg\"]\n",
        "thelist.pop(1)\n",
        "print(thelist)"
      ],
      "metadata": {
        "colab": {
          "base_uri": "https://localhost:8080/"
        },
        "id": "xQIbCeXWBdbO",
        "outputId": "9a42b88e-b54f-4217-d60f-8bab9a9df130"
      },
      "execution_count": 28,
      "outputs": [
        {
          "output_type": "stream",
          "name": "stdout",
          "text": [
            "['milk', 'egg']\n"
          ]
        }
      ]
    },
    {
      "cell_type": "code",
      "source": [
        "thelist = [\"milk\",\"water\",\"egg\"]\n",
        "thelist.pop()\n",
        "print(thelist)"
      ],
      "metadata": {
        "colab": {
          "base_uri": "https://localhost:8080/"
        },
        "id": "kV0TvV3iB750",
        "outputId": "68ae1f3a-439a-4cc6-e14c-99fdfe87febb"
      },
      "execution_count": 29,
      "outputs": [
        {
          "output_type": "stream",
          "name": "stdout",
          "text": [
            "['milk', 'water']\n"
          ]
        }
      ]
    },
    {
      "cell_type": "code",
      "source": [
        "thelist = [\"milk\",\"water\",\"juice\"]\n",
        "del thelist"
      ],
      "metadata": {
        "id": "--hHGJ55Ci5a"
      },
      "execution_count": 34,
      "outputs": []
    },
    {
      "cell_type": "code",
      "source": [
        "thelist = [\"milk\",\"water\",\"juice\"]\n",
        "thelist.clear()\n",
        "print(thelist)"
      ],
      "metadata": {
        "colab": {
          "base_uri": "https://localhost:8080/"
        },
        "id": "2NmNVLspC3en",
        "outputId": "0d12917f-8c12-4d81-ebd8-9c005c709be9"
      },
      "execution_count": 36,
      "outputs": [
        {
          "output_type": "stream",
          "name": "stdout",
          "text": [
            "[]\n"
          ]
        }
      ]
    }
  ]
}