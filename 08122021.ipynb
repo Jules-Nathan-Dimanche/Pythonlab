{
  "nbformat": 4,
  "nbformat_minor": 0,
  "metadata": {
    "colab": {
      "name": "08122021.ipynb",
      "provenance": [],
      "authorship_tag": "ABX9TyPm4NqdrCeKlvZEMrSaNVoT",
      "include_colab_link": true
    },
    "kernelspec": {
      "name": "python3",
      "display_name": "Python 3"
    },
    "language_info": {
      "name": "python"
    }
  },
  "cells": [
    {
      "cell_type": "markdown",
      "metadata": {
        "id": "view-in-github",
        "colab_type": "text"
      },
      "source": [
        "<a href=\"https://colab.research.google.com/github/Jules-Nathan-Dimanche/Pythonlab/blob/main/08122021.ipynb\" target=\"_parent\"><img src=\"https://colab.research.google.com/assets/colab-badge.svg\" alt=\"Open In Colab\"/></a>"
      ]
    },
    {
      "cell_type": "code",
      "execution_count": 46,
      "metadata": {
        "colab": {
          "base_uri": "https://localhost:8080/"
        },
        "id": "ZR39T2H15T5E",
        "outputId": "3a84ac8c-136f-4e9b-dbea-cdf4acc760fe"
      },
      "outputs": [
        {
          "output_type": "stream",
          "name": "stdout",
          "text": [
            "['melon', 'apple', 'banana']\n"
          ]
        }
      ],
      "source": [
        "thelist = [\"melon\",\"apple\",\"egg\"]\n",
        "thelist[2] = \"banana\"\n",
        "print(thelist)"
      ]
    },
    {
      "cell_type": "code",
      "source": [
        "thelist = [\"melon\",\"paper\",\"egg\"]\n",
        "thelist[1:3] = [\"apple\",\"banana\"]\n",
        "print(thelist)"
      ],
      "metadata": {
        "colab": {
          "base_uri": "https://localhost:8080/"
        },
        "id": "EJoLPA7c6RBs",
        "outputId": "79a071cf-83b4-44f1-dd31-45bebd598432"
      },
      "execution_count": 45,
      "outputs": [
        {
          "output_type": "stream",
          "name": "stdout",
          "text": [
            "['melon', 'apple', 'banana']\n"
          ]
        }
      ]
    },
    {
      "cell_type": "code",
      "source": [
        "thelist = [\"apple\",\"banana\",\"melon\"]\n",
        "thelist.append(\"pineapple\")\n",
        "print(thelist)"
      ],
      "metadata": {
        "colab": {
          "base_uri": "https://localhost:8080/"
        },
        "id": "BqUcMKrF8TE5",
        "outputId": "7d5bd546-27fe-4cbe-e0bf-55de31093deb"
      },
      "execution_count": 44,
      "outputs": [
        {
          "output_type": "stream",
          "name": "stdout",
          "text": [
            "['apple', 'banana', 'melon', 'pineapple']\n"
          ]
        }
      ]
    },
    {
      "cell_type": "code",
      "source": [
        "thelist = [\"apple\",\"banana\",\"orange\"]\n",
        "thelist.insert(2,\"pineapple\")\n",
        "print(thelist)"
      ],
      "metadata": {
        "colab": {
          "base_uri": "https://localhost:8080/"
        },
        "id": "rLM0vHBI9hFR",
        "outputId": "f06bb358-3609-464b-873f-ea1e43910bca"
      },
      "execution_count": 43,
      "outputs": [
        {
          "output_type": "stream",
          "name": "stdout",
          "text": [
            "['apple', 'banana', 'pineapple', 'orange']\n"
          ]
        }
      ]
    },
    {
      "cell_type": "code",
      "source": [
        "thelist = [\"apple\",\"banana\",\"pineapple\"]\n",
        "extrafruits = [\"orange\"]\n",
        "thelist.extend(extrafruits)\n",
        "print(thelist)"
      ],
      "metadata": {
        "colab": {
          "base_uri": "https://localhost:8080/"
        },
        "id": "TnyPiBaP9hLx",
        "outputId": "4b832dd8-57f0-4ee4-f30a-603089b943c8"
      },
      "execution_count": 42,
      "outputs": [
        {
          "output_type": "stream",
          "name": "stdout",
          "text": [
            "['apple', 'banana', 'pineapple', 'orange']\n"
          ]
        }
      ]
    },
    {
      "cell_type": "code",
      "source": [
        "thelist = [\"apple\",\"melon\"]\n",
        "thelist.remove(\"apple\")\n",
        "print(thelist)\n"
      ],
      "metadata": {
        "colab": {
          "base_uri": "https://localhost:8080/"
        },
        "id": "BgXh2_1x_VPP",
        "outputId": "e9aaec05-56b5-43e1-cff3-f92e842d28a5"
      },
      "execution_count": 41,
      "outputs": [
        {
          "output_type": "stream",
          "name": "stdout",
          "text": [
            "['melon']\n"
          ]
        }
      ]
    },
    {
      "cell_type": "code",
      "source": [
        "thelist = [\"milk\",\"water\",\"egg\"]\n",
        "thelist.pop(1)\n",
        "print(thelist)"
      ],
      "metadata": {
        "colab": {
          "base_uri": "https://localhost:8080/"
        },
        "id": "xQIbCeXWBdbO",
        "outputId": "8802c863-c888-435f-e8de-25e34ebcf4ab"
      },
      "execution_count": 40,
      "outputs": [
        {
          "output_type": "stream",
          "name": "stdout",
          "text": [
            "['milk', 'egg']\n"
          ]
        }
      ]
    },
    {
      "cell_type": "code",
      "source": [
        "thelist = [\"milk\",\"water\",\"egg\"]\n",
        "thelist.pop()\n",
        "print(thelist)"
      ],
      "metadata": {
        "colab": {
          "base_uri": "https://localhost:8080/"
        },
        "id": "kV0TvV3iB750",
        "outputId": "3d07ff40-3e9c-4e7f-b649-6621ab054c2f"
      },
      "execution_count": 39,
      "outputs": [
        {
          "output_type": "stream",
          "name": "stdout",
          "text": [
            "['milk', 'water']\n"
          ]
        }
      ]
    },
    {
      "cell_type": "code",
      "source": [
        "thelist = [\"milk\",\"water\",\"juice\"]\n",
        "del thelist"
      ],
      "metadata": {
        "id": "--hHGJ55Ci5a"
      },
      "execution_count": 38,
      "outputs": []
    },
    {
      "cell_type": "code",
      "source": [
        "thelist = [\"milk\",\"water\",\"juice\"]\n",
        "thelist.clear()\n",
        "print(thelist)"
      ],
      "metadata": {
        "colab": {
          "base_uri": "https://localhost:8080/"
        },
        "id": "2NmNVLspC3en",
        "outputId": "38df5b35-a2c7-4b4e-eb15-3bb527274aad"
      },
      "execution_count": 37,
      "outputs": [
        {
          "output_type": "stream",
          "name": "stdout",
          "text": [
            "[]\n"
          ]
        }
      ]
    }
  ]
}