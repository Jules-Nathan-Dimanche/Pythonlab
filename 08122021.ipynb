{
  "nbformat": 4,
  "nbformat_minor": 0,
  "metadata": {
    "colab": {
      "name": "08122021.ipynb",
      "provenance": [],
      "authorship_tag": "ABX9TyPm4NqdrCeKlvZEMrSaNVoT",
      "include_colab_link": true
    },
    "kernelspec": {
      "name": "python3",
      "display_name": "Python 3"
    },
    "language_info": {
      "name": "python"
    }
  },
  "cells": [
    {
      "cell_type": "markdown",
      "metadata": {
        "id": "view-in-github",
        "colab_type": "text"
      },
      "source": [
        "<a href=\"https://colab.research.google.com/github/Jules-Nathan-Dimanche/Pythonlab/blob/main/08122021.ipynb\" target=\"_parent\"><img src=\"https://colab.research.google.com/assets/colab-badge.svg\" alt=\"Open In Colab\"/></a>"
      ]
    },
    {
      "cell_type": "code",
      "execution_count": null,
      "metadata": {
        "id": "ZR39T2H15T5E"
      },
      "outputs": [],
      "source": [
        "thelist = [\"melon\",\"apple\",\"egg\"]\n",
        "thelist[2] = \"banana\"\n",
        "print(thelist)"
      ]
    },
    {
      "cell_type": "code",
      "source": [
        "thelist = [\"melon\",\"paper\",\"egg\"]\n",
        "thelist[1:3] = [\"apple\",\"banana\"]\n",
        "print(thelist)"
      ],
      "metadata": {
        "id": "EJoLPA7c6RBs"
      },
      "execution_count": null,
      "outputs": []
    },
    {
      "cell_type": "code",
      "source": [
        "thelist = [\"apple\",\"banana\",\"melon\"]\n",
        "thelist.append(\"pineapple\")\n",
        "print(thelist)"
      ],
      "metadata": {
        "id": "BqUcMKrF8TE5"
      },
      "execution_count": null,
      "outputs": []
    },
    {
      "cell_type": "code",
      "source": [
        "thelist = [\"apple\",\"banana\",\"orange\"]\n",
        "thelist.insert(2,\"pineapple\")\n",
        "print(thelist)"
      ],
      "metadata": {
        "id": "rLM0vHBI9hFR"
      },
      "execution_count": null,
      "outputs": []
    },
    {
      "cell_type": "code",
      "source": [
        "thelist = [\"apple\",\"banana\",\"pineapple\"]\n",
        "extrafruits = [\"orange\"]\n",
        "thelist.extend(extrafruits)\n",
        "print(thelist)"
      ],
      "metadata": {
        "id": "TnyPiBaP9hLx"
      },
      "execution_count": null,
      "outputs": []
    },
    {
      "cell_type": "code",
      "source": [
        "thelist = [\"apple\",\"melon\"]\n",
        "thelist.remove(\"apple\")\n",
        "print(thelist)\n"
      ],
      "metadata": {
        "id": "BgXh2_1x_VPP"
      },
      "execution_count": null,
      "outputs": []
    },
    {
      "cell_type": "code",
      "source": [
        "thelist = [\"milk\",\"water\",\"egg\"]\n",
        "thelist.pop(1)\n",
        "print(thelist)"
      ],
      "metadata": {
        "id": "xQIbCeXWBdbO"
      },
      "execution_count": null,
      "outputs": []
    },
    {
      "cell_type": "code",
      "source": [
        "thelist = [\"milk\",\"water\",\"egg\"]\n",
        "thelist.pop()\n",
        "print(thelist)"
      ],
      "metadata": {
        "id": "kV0TvV3iB750"
      },
      "execution_count": null,
      "outputs": []
    },
    {
      "cell_type": "code",
      "source": [
        "thelist = [\"milk\",\"water\",\"juice\"]\n",
        "del thelist"
      ],
      "metadata": {
        "id": "--hHGJ55Ci5a"
      },
      "execution_count": 34,
      "outputs": []
    },
    {
      "cell_type": "code",
      "source": [
        "thelist = [\"milk\",\"water\",\"juice\"]\n",
        "thelist.clear()\n",
        "print(thelist)"
      ],
      "metadata": {
        "id": "2NmNVLspC3en"
      },
      "execution_count": null,
      "outputs": []
    }
  ]
}