{
  "nbformat": 4,
  "nbformat_minor": 0,
  "metadata": {
    "colab": {
      "name": "08122021.ipynb",
      "provenance": [],
      "authorship_tag": "ABX9TyOac+g9UHQ36DVj/MOboTl7",
      "include_colab_link": true
    },
    "kernelspec": {
      "name": "python3",
      "display_name": "Python 3"
    },
    "language_info": {
      "name": "python"
    }
  },
  "cells": [
    {
      "cell_type": "markdown",
      "metadata": {
        "id": "view-in-github",
        "colab_type": "text"
      },
      "source": [
        "<a href=\"https://colab.research.google.com/github/Jules-Nathan-Dimanche/Pythonlab/blob/main/08122021.ipynb\" target=\"_parent\"><img src=\"https://colab.research.google.com/assets/colab-badge.svg\" alt=\"Open In Colab\"/></a>"
      ]
    },
    {
      "cell_type": "code",
      "execution_count": 7,
      "metadata": {
        "colab": {
          "base_uri": "https://localhost:8080/"
        },
        "id": "_SCFkMbCAoka",
        "outputId": "044d0798-6eca-4e6f-c39d-455f22cd7267"
      },
      "outputs": [
        {
          "output_type": "stream",
          "name": "stdout",
          "text": [
            "My name is jules nathan dimanche.\n",
            "I am from RIT college ,chennai.\n",
            "The number of letters : 65\n"
          ]
        }
      ],
      "source": [
        "a = \"\"\"My name is jules nathan dimanche.\n",
        "I am from RIT college ,chennai.\"\"\"\n",
        "print(a)\n",
        "print(\"The number of letters :\",len(a))"
      ]
    },
    {
      "cell_type": "code",
      "source": [
        "print(a[6])"
      ],
      "metadata": {
        "colab": {
          "base_uri": "https://localhost:8080/"
        },
        "id": "4Qgq54eHBOYl",
        "outputId": "75ebafb7-b975-4822-ed59-6cc172d43c89"
      },
      "execution_count": 10,
      "outputs": [
        {
          "output_type": "stream",
          "name": "stdout",
          "text": [
            "e\n"
          ]
        }
      ]
    },
    {
      "cell_type": "code",
      "source": [
        "for x in \"water\":\n",
        "  print(x)"
      ],
      "metadata": {
        "colab": {
          "base_uri": "https://localhost:8080/"
        },
        "id": "R2QpfmIMB3X8",
        "outputId": "c4ff6f62-c1b2-41b7-ddb9-545aff861869"
      },
      "execution_count": 21,
      "outputs": [
        {
          "output_type": "stream",
          "name": "stdout",
          "text": [
            "w\n",
            "a\n",
            "t\n",
            "e\n",
            "r\n"
          ]
        }
      ]
    },
    {
      "cell_type": "code",
      "source": [
        "print(\"is\" in a)"
      ],
      "metadata": {
        "colab": {
          "base_uri": "https://localhost:8080/"
        },
        "id": "WOSQIibvCwQF",
        "outputId": "d8dabc4e-74de-48a3-c4df-2a307a84e35e"
      },
      "execution_count": 22,
      "outputs": [
        {
          "output_type": "stream",
          "name": "stdout",
          "text": [
            "True\n"
          ]
        }
      ]
    },
    {
      "cell_type": "code",
      "source": [
        "if \"is\" in a:\n",
        "  print(\"yes\")\n"
      ],
      "metadata": {
        "colab": {
          "base_uri": "https://localhost:8080/"
        },
        "id": "FYLaUSYcDKS4",
        "outputId": "ed057ad0-4f30-4a15-ad4f-fc88f6a2964f"
      },
      "execution_count": 23,
      "outputs": [
        {
          "output_type": "stream",
          "name": "stdout",
          "text": [
            "yes\n"
          ]
        }
      ]
    },
    {
      "cell_type": "code",
      "source": [
        "if \"what\" not in a:\n",
        "  print(\"no\")"
      ],
      "metadata": {
        "colab": {
          "base_uri": "https://localhost:8080/"
        },
        "id": "ZEf_tbBiDZc4",
        "outputId": "ef7b591d-f6ca-4e03-b4b2-9ab32a677469"
      },
      "execution_count": 26,
      "outputs": [
        {
          "output_type": "stream",
          "name": "stdout",
          "text": [
            "no\n"
          ]
        }
      ]
    },
    {
      "cell_type": "markdown",
      "source": [
        "pandas"
      ],
      "metadata": {
        "id": "gJhISJxJTH2Y"
      }
    },
    {
      "cell_type": "code",
      "source": [
        "import pandas\n",
        "mydata={\n",
        "    \"mobile\":[\"MI\",\"samsung\",\"nokia\",\"realme\"],\n",
        "    \"defect\":[2,4,1,8]\n",
        "}\n",
        "data=pandas.DataFrame(mydata)\n",
        "print(data)"
      ],
      "metadata": {
        "colab": {
          "base_uri": "https://localhost:8080/"
        },
        "id": "1B42bd_BEn2Y",
        "outputId": "e6009bff-56b3-4318-bc21-50d17e60d48c"
      },
      "execution_count": 39,
      "outputs": [
        {
          "output_type": "stream",
          "name": "stdout",
          "text": [
            "    mobile  defect\n",
            "0       MI       2\n",
            "1  samsung       4\n",
            "2    nokia       1\n",
            "3   realme       8\n"
          ]
        }
      ]
    },
    {
      "cell_type": "code",
      "source": [
        "import pandas as a\n",
        "mydata={\n",
        "    \"mobile\":[\"MI\",\"samsung\",\"nokia\",\"realme\"],\n",
        "    \"defect\":[2,4,1,8]\n",
        "  \n",
        "}\n",
        "data=a.DataFrame(mydata)\n",
        "print(data)"
      ],
      "metadata": {
        "colab": {
          "base_uri": "https://localhost:8080/"
        },
        "id": "JG2lIacyGXtJ",
        "outputId": "b9362758-0774-4ca2-eee5-c44a8efba1ce"
      },
      "execution_count": 46,
      "outputs": [
        {
          "output_type": "stream",
          "name": "stdout",
          "text": [
            "    mobile  defect\n",
            "0       MI       2\n",
            "1  samsung       4\n",
            "2    nokia       1\n",
            "3   realme       8\n"
          ]
        }
      ]
    },
    {
      "cell_type": "code",
      "source": [
        "data=a.Series(mydata)\n",
        "print(data)"
      ],
      "metadata": {
        "colab": {
          "base_uri": "https://localhost:8080/"
        },
        "id": "Jx5jnjFoIZSp",
        "outputId": "7cf955d9-5db2-4cb1-b0eb-163f7b9b2d68"
      },
      "execution_count": 47,
      "outputs": [
        {
          "output_type": "stream",
          "name": "stdout",
          "text": [
            "mobile    [MI, samsung, nokia, realme]\n",
            "defect                    [2, 4, 1, 8]\n",
            "dtype: object\n"
          ]
        }
      ]
    },
    {
      "cell_type": "code",
      "source": [
        "import pandas as c\n",
        "a=[1,3,4]\n",
        "b=c.Series(a,index = ['x','y','z'])\n",
        "print(b)"
      ],
      "metadata": {
        "colab": {
          "base_uri": "https://localhost:8080/"
        },
        "id": "DHWY1MhkKvHW",
        "outputId": "ba7346cc-4c2c-44ce-e6e5-916872511922"
      },
      "execution_count": 54,
      "outputs": [
        {
          "output_type": "stream",
          "name": "stdout",
          "text": [
            "x    1\n",
            "y    3\n",
            "z    4\n",
            "dtype: int64\n"
          ]
        }
      ]
    },
    {
      "cell_type": "code",
      "source": [
        "import pandas as a\n",
        "b={\"day1\":320,\"day2\":400}\n",
        "c=a.Series(b)\n",
        "print(c)"
      ],
      "metadata": {
        "colab": {
          "base_uri": "https://localhost:8080/"
        },
        "id": "zzf9j0v3UZ8p",
        "outputId": "96b62f66-863c-449d-fb4c-03af6b9281be"
      },
      "execution_count": 60,
      "outputs": [
        {
          "output_type": "stream",
          "name": "stdout",
          "text": [
            "day1    320\n",
            "day2    400\n",
            "dtype: int64\n"
          ]
        }
      ]
    },
    {
      "cell_type": "code",
      "source": [
        "import pandas as a\n",
        "b={\"day1\":340,\"day2\":400}\n",
        "c=a.Series(b,index=[\"day1\"])\n",
        "print(c)"
      ],
      "metadata": {
        "colab": {
          "base_uri": "https://localhost:8080/"
        },
        "id": "PuFatqyFVX_W",
        "outputId": "75856cc3-757a-4b51-ddff-9dce453987b9"
      },
      "execution_count": 64,
      "outputs": [
        {
          "output_type": "stream",
          "name": "stdout",
          "text": [
            "day1    340\n",
            "dtype: int64\n"
          ]
        }
      ]
    },
    {
      "cell_type": "code",
      "source": [
        "import pandas as a\n",
        "b={\n",
        "    \"calories\":[320,400,500],\n",
        "   \"duration\":[30,40,55]\n",
        "  \n",
        "}\n",
        "c=a.DataFrame(b,index=[\"day1\",\"day2\",\"day3\"])\n",
        "print(c)\n"
      ],
      "metadata": {
        "colab": {
          "base_uri": "https://localhost:8080/"
        },
        "id": "vAAxVWPpV-C_",
        "outputId": "cc0e31d2-5b5b-4099-eb03-0f67c4631147"
      },
      "execution_count": 66,
      "outputs": [
        {
          "output_type": "stream",
          "name": "stdout",
          "text": [
            "      calories  duration\n",
            "day1       320        30\n",
            "day2       400        40\n",
            "day3       500        55\n"
          ]
        }
      ]
    }
  ]
}